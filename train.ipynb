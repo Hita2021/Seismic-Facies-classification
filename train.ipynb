{
 "cells": [
  {
   "cell_type": "code",
   "execution_count": null,
   "metadata": {},
   "outputs": [],
   "source": [
    "import time\n",
    "import matplotlib.pyplot as plt\n",
    "import numpy as np\n",
    "import torch\n",
    "from torch.utils.data import DataLoader, Dataset\n",
    "from torch import optim\n",
    "from unet_ppm import *\n",
    "from dice_loss import *"
   ]
  },
  {
   "cell_type": "code",
   "execution_count": 0,
   "metadata": {
    "colab": {},
    "colab_type": "code",
    "id": "J0AJ_n-B_hdm"
   },
   "outputs": [],
   "source": [
    "sei_patch = np.load('sei_patch.npy')\n",
    "lab_patch = np.load('lab_patch.npy')"
   ]
  },
  {
   "cell_type": "code",
   "execution_count": 0,
   "metadata": {
    "colab": {},
    "colab_type": "code",
    "id": "Krh3HyACBmRW"
   },
   "outputs": [],
   "source": [
    "class DataGenerator(Dataset):\n",
    "    def __init__(self, x_set, y_set):\n",
    "        self.x, self.y = x_set, y_set\n",
    "\n",
    "    def __len__(self):\n",
    "        return len(self.x)\n",
    "    \n",
    "    def __getitem__(self, index):\n",
    "        batch_x = self.x[index]\n",
    "        batch_y = self.y[index]\n",
    "        return np.expand_dims(batch_x,axis=0), batch_y"
   ]
  },
  {
   "cell_type": "code",
   "execution_count": 0,
   "metadata": {
    "colab": {},
    "colab_type": "code",
    "id": "bYt3bNf-D0C_"
   },
   "outputs": [],
   "source": [
    "def accuracy(out, yb):\n",
    "    preds = torch.argmax(out, dim=1)\n",
    "    return (preds == yb).float().mean()\n",
    "\n",
    "def train(model,optimizer,dataload,num_epochs,device):\n",
    "    acc_history  = []\n",
    "    loss_history = []\n",
    "    miou_history = []\n",
    "    for epoch in range(num_epochs):\n",
    "        print('Starting epoch {}/{}'.format(epoch+1, num_epochs))\n",
    "        print('-' * 10)\n",
    "        since = time.time()\n",
    "        dataset_size = len(dataload.dataset)\n",
    "        epoch_loss = 0\n",
    "        epoch_acc  = 0\n",
    "\n",
    "        for idx,(x, y) in enumerate(dataload):                 \n",
    "            optimizer.zero_grad()             \n",
    "            inputs = x.to(device)\n",
    "            labels = y.to(device)\n",
    "            outputs = model(inputs)           \n",
    "            criterion1 = MulticlassDiceLoss() \n",
    "            loss1 = criterion1(outputs,labels.long())\n",
    "            criterion2 = torch.nn.CrossEntropyLoss()\n",
    "            loss2 = criterion2(outputs,labels.long())\n",
    "            e=1e-2\n",
    "            loss = e*loss1+loss2\n",
    "            acc  = accuracy(outputs,labels)\n",
    "            loss.backward()                  \n",
    "            optimizer.step()                  \n",
    "            \n",
    "            epoch_loss += loss.item()\n",
    "            epoch_acc+= acc\n",
    "            loss_history.append(loss.item())\n",
    "            acc_history.append(acc)\n",
    "            if (idx+1)%10==0:\n",
    "              print(\"%d/%d,train_loss:%0.3f,accuracy:%0.3f\" % (idx+1, dataset_size // dataload.batch_size, loss.item(),acc))\n",
    "\n",
    "        time_elapsed = time.time() - since     \n",
    "        all_epoch_loss=epoch_loss/len(dataload)\n",
    "        all_epoch_acc=epoch_acc/len(dataload)\n",
    "        print(\"epoch %d loss:%0.3f accuracy:%0.3f \" % (epoch, all_epoch_loss,all_epoch_acc))\n",
    "        print('Training complete in {:.0f}m {:.0f}s'.format(time_elapsed // 60, time_elapsed % 60))\n",
    "\n",
    "    torch.save(model,\"/content/model_0.pth\")      \n",
    "    return model,loss_history,acc_history\n"
   ]
  },
  {
   "cell_type": "code",
   "execution_count": null,
   "metadata": {
    "colab": {
     "base_uri": "https://localhost:8080/",
     "height": 605
    },
    "colab_type": "code",
    "executionInfo": {
     "elapsed": 254967,
     "status": "error",
     "timestamp": 1584936721873,
     "user": {
      "displayName": "xy y",
      "photoUrl": "https://lh3.googleusercontent.com/a-/AOh14GiaFKxS6W7tYNqMZGQoBuD3PvD7FSR5-QLeO_Q=s64",
      "userId": "13155411400463353456"
     },
     "user_tz": -480
    },
    "id": "a1KouPR2EBsg",
    "outputId": "629cc0af-c71b-423a-8061-07b75fa11e77"
   },
   "outputs": [],
   "source": [
    "device = torch.device('cuda' if torch.cuda.is_available() else 'cpu')\n",
    "model = PSPNet().to(device)\n",
    "#model=model.double()\n",
    "train_dataset = DataGenerator(x_set=sei_patch,y_set=lab_patch) \n",
    "dataloader = DataLoader(train_dataset, batch_size=15, shuffle=True)\n",
    "#criterion = torch.nn.CrossEntropyLoss()\n",
    "#criterion = MulticlassDiceLoss()\n",
    "optimizer = optim.Adam(model.parameters(),lr=1e-4)\n",
    "num_epochs=10\n",
    "\n",
    "model_0,loss,acc=train(model,optimizer,dataloader,num_epochs,device)"
   ]
  },
  {
   "cell_type": "code",
   "execution_count": 0,
   "metadata": {
    "colab": {},
    "colab_type": "code",
    "id": "dWvXakaPz04V"
   },
   "outputs": [],
   "source": [
    "fig = plt.figure(figsize=(10,6))\n",
    "\n",
    "plt.plot(acc)\n",
    "plt.title('Model accuracy',fontsize=20)\n",
    "plt.ylabel('Accuracy',fontsize=20)\n",
    "plt.xlabel('Epoch',fontsize=20)\n",
    "plt.legend(['train', 'test'], loc='center right',fontsize=20)\n",
    "plt.tick_params(axis='both', which='major', labelsize=18)\n",
    "plt.tick_params(axis='both', which='minor', labelsize=18)\n",
    "plt.show()\n",
    "\n",
    "fig = plt.figure(figsize=(10,6))\n",
    "plt.plot(loss)\n",
    "plt.title('Model loss',fontsize=20)\n",
    "plt.ylabel('Loss',fontsize=20)\n",
    "plt.xlabel('Epoch',fontsize=20)\n",
    "plt.legend(['train', 'test'], loc='center right',fontsize=20)\n",
    "#plt.set_facecolor('none')\n",
    "plt.tick_params(axis='both', which='major', labelsize=18)\n",
    "plt.tick_params(axis='both', which='minor', labelsize=18)\n",
    "plt.show()"
   ]
  }
 ],
 "metadata": {
  "accelerator": "GPU",
  "colab": {
   "authorship_tag": "ABX9TyOnW+edIBNKBXGLNKIey5Th",
   "collapsed_sections": [],
   "mount_file_id": "1kKRdnS2tnSXvFu5ne9qiyt21OPE8DAEd",
   "name": "seisfacies-psp.ipynb",
   "provenance": [
    {
     "file_id": "14FZfRxIPneVjivUgYi1iT8sDqObqXAbS",
     "timestamp": 1582951545627
    }
   ]
  },
  "kernelspec": {
   "display_name": "Python 3",
   "language": "python",
   "name": "python3"
  },
  "language_info": {
   "codemirror_mode": {
    "name": "ipython",
    "version": 3
   },
   "file_extension": ".py",
   "mimetype": "text/x-python",
   "name": "python",
   "nbconvert_exporter": "python",
   "pygments_lexer": "ipython3",
   "version": "3.6.5"
  },
  "varInspector": {
   "cols": {
    "lenName": 16,
    "lenType": 16,
    "lenVar": 40
   },
   "kernels_config": {
    "python": {
     "delete_cmd_postfix": "",
     "delete_cmd_prefix": "del ",
     "library": "var_list.py",
     "varRefreshCmd": "print(var_dic_list())"
    },
    "r": {
     "delete_cmd_postfix": ") ",
     "delete_cmd_prefix": "rm(",
     "library": "var_list.r",
     "varRefreshCmd": "cat(var_dic_list()) "
    }
   },
   "types_to_exclude": [
    "module",
    "function",
    "builtin_function_or_method",
    "instance",
    "_Feature"
   ],
   "window_display": false
  }
 },
 "nbformat": 4,
 "nbformat_minor": 1
}
