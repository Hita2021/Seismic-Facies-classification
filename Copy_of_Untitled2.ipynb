{
  "nbformat": 4,
  "nbformat_minor": 0,
  "metadata": {
    "colab": {
      "provenance": [],
      "include_colab_link": true
    },
    "kernelspec": {
      "name": "python3",
      "display_name": "Python 3"
    },
    "language_info": {
      "name": "python"
    }
  },
  "cells": [
    {
      "cell_type": "markdown",
      "metadata": {
        "id": "view-in-github",
        "colab_type": "text"
      },
      "source": [
        "<a href=\"https://colab.research.google.com/github/Hita2021/Seismic-Facies-classification/blob/master/Copy_of_Untitled2.ipynb\" target=\"_parent\"><img src=\"https://colab.research.google.com/assets/colab-badge.svg\" alt=\"Open In Colab\"/></a>"
      ]
    },
    {
      "cell_type": "code",
      "execution_count": null,
      "metadata": {
        "colab": {
          "base_uri": "https://localhost:8080/"
        },
        "id": "ke1W2258TDxa",
        "outputId": "cd1e26d2-e6fd-48e2-983b-a48d98f7482a"
      },
      "outputs": [
        {
          "output_type": "stream",
          "name": "stdout",
          "text": [
            "Cloning into 'Video-Prediction'...\n",
            "remote: Enumerating objects: 254, done.\u001b[K\n",
            "remote: Counting objects: 100% (42/42), done.\u001b[K\n",
            "remote: Compressing objects: 100% (29/29), done.\u001b[K\n",
            "remote: Total 254 (delta 15), reused 13 (delta 13), pack-reused 212 (from 1)\u001b[K\n",
            "Receiving objects: 100% (254/254), 4.25 MiB | 26.68 MiB/s, done.\n",
            "Resolving deltas: 100% (110/110), done.\n"
          ]
        }
      ],
      "source": [
        "!git clone https://github.com/iamrakesh28/Video-Prediction.git"
      ]
    },
    {
      "cell_type": "code",
      "source": [
        "%cd Video-Prediction"
      ],
      "metadata": {
        "colab": {
          "base_uri": "https://localhost:8080/"
        },
        "id": "w3CtYHB5TlEk",
        "outputId": "7975893a-b73e-4ef4-f0bd-3d2c27fd6b06"
      },
      "execution_count": null,
      "outputs": [
        {
          "output_type": "stream",
          "name": "stdout",
          "text": [
            "/content/Video-Prediction\n"
          ]
        }
      ]
    },
    {
      "cell_type": "code",
      "source": [
        "%cd /content/Video-Prediction/datasets/keras-next-frame"
      ],
      "metadata": {
        "colab": {
          "base_uri": "https://localhost:8080/"
        },
        "id": "agVpvdPQTslE",
        "outputId": "e7209eee-6aca-49bf-994d-5ccc127e046c"
      },
      "execution_count": null,
      "outputs": [
        {
          "output_type": "stream",
          "name": "stdout",
          "text": [
            "/content/Video-Prediction/datasets/keras-next-frame\n"
          ]
        }
      ]
    },
    {
      "cell_type": "code",
      "source": [
        "!python /content/Video-Prediction/datasets/keras-next-frame/main.py"
      ],
      "metadata": {
        "colab": {
          "base_uri": "https://localhost:8080/"
        },
        "id": "Rh7u0ZYRTyT0",
        "outputId": "64bbd1a2-d091-4fb3-c5bd-a824f062da84"
      },
      "execution_count": null,
      "outputs": [
        {
          "output_type": "stream",
          "name": "stdout",
          "text": [
            "2024-09-18 18:08:25.303224: E external/local_xla/xla/stream_executor/cuda/cuda_fft.cc:485] Unable to register cuFFT factory: Attempting to register factory for plugin cuFFT when one has already been registered\n",
            "2024-09-18 18:08:25.360300: E external/local_xla/xla/stream_executor/cuda/cuda_dnn.cc:8454] Unable to register cuDNN factory: Attempting to register factory for plugin cuDNN when one has already been registered\n",
            "2024-09-18 18:08:25.380146: E external/local_xla/xla/stream_executor/cuda/cuda_blas.cc:1452] Unable to register cuBLAS factory: Attempting to register factory for plugin cuBLAS when one has already been registered\n",
            "2024-09-18 18:08:25.428763: I tensorflow/core/platform/cpu_feature_guard.cc:210] This TensorFlow binary is optimized to use available CPU instructions in performance-critical operations.\n",
            "To enable the following instructions: AVX2 FMA, in other operations, rebuild TensorFlow with the appropriate compiler flags.\n",
            "2024-09-18 18:08:28.148656: W tensorflow/compiler/tf2tensorrt/utils/py_utils.cc:38] TF-TRT Warning: Could not find TensorRT\n",
            "(1200, 20, 40, 40, 1)\n",
            "Traceback (most recent call last):\n",
            "  File \"/content/Video-Prediction/datasets/keras-next-frame/main.py\", line 122, in <module>\n",
            "    main()\n",
            "  File \"/content/Video-Prediction/datasets/keras-next-frame/main.py\", line 100, in main\n",
            "    model.train(X[:1000, :5], X[:1000, 5:], None, None, 1, 8)\n",
            "  File \"/content/Video-Prediction/datasets/keras-next-frame/transformer_video/video_prediction.py\", line 49, in train\n",
            "    batch_loss = self.train_step(enc_inp, dec_inp)\n",
            "  File \"/content/Video-Prediction/datasets/keras-next-frame/transformer_video/video_prediction.py\", line 29, in train_step\n",
            "    predictions, _ = self.transformer(inp, tar_inp, True, look_ahead_mask)\n",
            "  File \"/usr/local/lib/python3.10/dist-packages/keras/src/utils/traceback_utils.py\", line 122, in error_handler\n",
            "    raise e.with_traceback(filtered_tb) from None\n",
            "  File \"/usr/local/lib/python3.10/dist-packages/keras/src/layers/layer.py\", line 789, in __call__\n",
            "    raise ValueError(\n",
            "ValueError: Only input tensors may be passed as positional arguments. The following argument value should be passed as a keyword argument: True (of type <class 'bool'>)\n"
          ]
        }
      ]
    }
  ]
}